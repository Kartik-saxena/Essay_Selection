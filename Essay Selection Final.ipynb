{
 "cells": [
  {
   "cell_type": "code",
   "execution_count": 1,
   "metadata": {},
   "outputs": [],
   "source": [
    "import os\n",
    "import numpy as np\n",
    "import pandas as pd\n",
    "import matplotlib as plt\n",
    "from datetime import datetime\n",
    "from sklearn.preprocessing import LabelEncoder"
   ]
  },
  {
   "cell_type": "code",
   "execution_count": 2,
   "metadata": {},
   "outputs": [],
   "source": [
    "os.chdir('G:\\\\Machine learning\\\\Capstone final 1')"
   ]
  },
  {
   "cell_type": "code",
   "execution_count": 3,
   "metadata": {},
   "outputs": [],
   "source": [
    "projects = pd.read_csv('projects.csv')\n",
    "outcome = pd.read_csv('outcomes.csv')\n",
    "essay = pd.read_csv('essays.csv')"
   ]
  },
  {
   "cell_type": "code",
   "execution_count": 4,
   "metadata": {},
   "outputs": [],
   "source": [
    "data = pd.merge(left=projects,right=essay,on='projectid')"
   ]
  },
  {
   "cell_type": "code",
   "execution_count": 5,
   "metadata": {},
   "outputs": [],
   "source": [
    "data = pd.merge(left=data,right=pd.DataFrame(outcome[['projectid','is_exciting']]),on='projectid',how='left')"
   ]
  },
  {
   "cell_type": "code",
   "execution_count": 6,
   "metadata": {},
   "outputs": [],
   "source": [
    "del(projects,outcome,essay)"
   ]
  },
  {
   "cell_type": "code",
   "execution_count": 7,
   "metadata": {},
   "outputs": [
    {
     "data": {
      "text/plain": [
       "(664098, 41)"
      ]
     },
     "execution_count": 7,
     "metadata": {},
     "output_type": "execute_result"
    }
   ],
   "source": [
    "data.shape"
   ]
  },
  {
   "cell_type": "code",
   "execution_count": 8,
   "metadata": {},
   "outputs": [],
   "source": [
    "def date(x):\n",
    "    return datetime.strptime(x,'%Y-%m-%d')"
   ]
  },
  {
   "cell_type": "code",
   "execution_count": 9,
   "metadata": {},
   "outputs": [],
   "source": [
    "data['new_date'] = data['date_posted'].apply(date)"
   ]
  },
  {
   "cell_type": "code",
   "execution_count": 10,
   "metadata": {},
   "outputs": [],
   "source": [
    "# All these steps of data engineering are performed after examining the importance of data.\n",
    "# All the intermediate steps are removed for easy readability."
   ]
  },
  {
   "cell_type": "code",
   "execution_count": 10,
   "metadata": {},
   "outputs": [],
   "source": [
    "data.drop(['school_longitude','schoolid','school_county','school_ncesid','school_latitude','school_zip','school_city','school_metro','school_district','secondary_focus_subject','secondary_focus_area','teacher_prefix','teacher_acctid_x','teacher_acctid_y','date_posted'],axis = 1,inplace=True)"
   ]
  },
  {
   "cell_type": "code",
   "execution_count": 11,
   "metadata": {},
   "outputs": [],
   "source": [
    "data.dropna(subset = ['essay','need_statement','students_reached','fulfillment_labor_materials','primary_focus_subject','short_description','resource_type','grade_level','title'], inplace=True)"
   ]
  },
  {
   "cell_type": "code",
   "execution_count": 12,
   "metadata": {},
   "outputs": [
    {
     "data": {
      "text/plain": [
       "projectid                                     0\n",
       "school_state                                  0\n",
       "school_charter                                0\n",
       "school_magnet                                 0\n",
       "school_year_round                             0\n",
       "school_nlns                                   0\n",
       "school_kipp                                   0\n",
       "school_charter_ready_promise                  0\n",
       "teacher_teach_for_america                     0\n",
       "teacher_ny_teaching_fellow                    0\n",
       "primary_focus_subject                         0\n",
       "primary_focus_area                            0\n",
       "resource_type                                 0\n",
       "poverty_level                                 0\n",
       "grade_level                                   0\n",
       "fulfillment_labor_materials                   0\n",
       "total_price_excluding_optional_support        0\n",
       "total_price_including_optional_support        0\n",
       "students_reached                              0\n",
       "eligible_double_your_impact_match             0\n",
       "eligible_almost_home_match                    0\n",
       "title                                         0\n",
       "short_description                             0\n",
       "need_statement                                0\n",
       "essay                                         0\n",
       "is_exciting                               44769\n",
       "new_date                                      0\n",
       "dtype: int64"
      ]
     },
     "execution_count": 12,
     "metadata": {},
     "output_type": "execute_result"
    }
   ],
   "source": [
    "data.isnull().sum()"
   ]
  },
  {
   "cell_type": "code",
   "execution_count": 15,
   "metadata": {},
   "outputs": [],
   "source": [
    "# Label encoding variables with binary values (True or False)"
   ]
  },
  {
   "cell_type": "code",
   "execution_count": 13,
   "metadata": {},
   "outputs": [],
   "source": [
    "data['teacher_teach_for_america'] = (LabelEncoder().fit_transform(data['teacher_teach_for_america']))"
   ]
  },
  {
   "cell_type": "code",
   "execution_count": 14,
   "metadata": {},
   "outputs": [],
   "source": [
    "data['teacher_ny_teaching_fellow'] = (LabelEncoder().fit_transform(data['teacher_ny_teaching_fellow']))"
   ]
  },
  {
   "cell_type": "code",
   "execution_count": 15,
   "metadata": {},
   "outputs": [],
   "source": [
    "data['eligible_almost_home_match'] = (LabelEncoder().fit_transform(data['eligible_almost_home_match']))"
   ]
  },
  {
   "cell_type": "code",
   "execution_count": 16,
   "metadata": {},
   "outputs": [],
   "source": [
    "data['eligible_double_your_impact_match'] = (LabelEncoder().fit_transform(data['eligible_double_your_impact_match']))"
   ]
  },
  {
   "cell_type": "code",
   "execution_count": 17,
   "metadata": {},
   "outputs": [],
   "source": [
    "data['school_charter'] = (LabelEncoder().fit_transform(data['school_charter']))"
   ]
  },
  {
   "cell_type": "code",
   "execution_count": 18,
   "metadata": {},
   "outputs": [],
   "source": [
    "data['school_magnet'] = (LabelEncoder().fit_transform(data['school_magnet']))"
   ]
  },
  {
   "cell_type": "code",
   "execution_count": 19,
   "metadata": {},
   "outputs": [],
   "source": [
    "data['school_year_round'] = (LabelEncoder().fit_transform(data['school_year_round']))"
   ]
  },
  {
   "cell_type": "code",
   "execution_count": 20,
   "metadata": {},
   "outputs": [],
   "source": [
    "data['school_nlns'] = (LabelEncoder().fit_transform(data['school_nlns']))"
   ]
  },
  {
   "cell_type": "code",
   "execution_count": 21,
   "metadata": {},
   "outputs": [],
   "source": [
    "data['school_kipp'] = (LabelEncoder().fit_transform(data['school_kipp']))"
   ]
  },
  {
   "cell_type": "code",
   "execution_count": 22,
   "metadata": {},
   "outputs": [],
   "source": [
    "data['school_charter_ready_promise'] = (LabelEncoder().fit_transform(data['school_charter_ready_promise']))"
   ]
  },
  {
   "cell_type": "code",
   "execution_count": null,
   "metadata": {},
   "outputs": [],
   "source": []
  },
  {
   "cell_type": "code",
   "execution_count": 23,
   "metadata": {},
   "outputs": [],
   "source": [
    "# Splitting test and train\n",
    "split_date = datetime.strptime('2014-01-01' ,'%Y-%m-%d')"
   ]
  },
  {
   "cell_type": "code",
   "execution_count": 24,
   "metadata": {},
   "outputs": [],
   "source": [
    "train = data[data['new_date'] < split_date]"
   ]
  },
  {
   "cell_type": "code",
   "execution_count": 25,
   "metadata": {},
   "outputs": [],
   "source": [
    "test = data[data['new_date'] >= split_date]\n"
   ]
  },
  {
   "cell_type": "code",
   "execution_count": 26,
   "metadata": {},
   "outputs": [
    {
     "name": "stderr",
     "output_type": "stream",
     "text": [
      "C:\\Users\\Lenovo\\Anaconda3\\lib\\site-packages\\ipykernel_launcher.py:1: SettingWithCopyWarning: \n",
      "A value is trying to be set on a copy of a slice from a DataFrame.\n",
      "Try using .loc[row_indexer,col_indexer] = value instead\n",
      "\n",
      "See the caveats in the documentation: http://pandas.pydata.org/pandas-docs/stable/indexing.html#indexing-view-versus-copy\n",
      "  \"\"\"Entry point for launching an IPython kernel.\n"
     ]
    }
   ],
   "source": [
    "train['is_exciting'] = (LabelEncoder().fit_transform(train['is_exciting']))"
   ]
  },
  {
   "cell_type": "code",
   "execution_count": 27,
   "metadata": {},
   "outputs": [],
   "source": [
    "train = train.drop('new_date',axis=1)"
   ]
  },
  {
   "cell_type": "code",
   "execution_count": 28,
   "metadata": {},
   "outputs": [],
   "source": [
    "test = test.drop('new_date',axis=1)"
   ]
  },
  {
   "cell_type": "code",
   "execution_count": 29,
   "metadata": {},
   "outputs": [],
   "source": [
    "x_train = train.drop('is_exciting',axis=1)"
   ]
  },
  {
   "cell_type": "code",
   "execution_count": 30,
   "metadata": {},
   "outputs": [],
   "source": [
    "y_train = train.drop(x_train,axis=1)"
   ]
  },
  {
   "cell_type": "code",
   "execution_count": 31,
   "metadata": {},
   "outputs": [],
   "source": [
    "x_test = test.drop('is_exciting',axis=1)"
   ]
  },
  {
   "cell_type": "code",
   "execution_count": 32,
   "metadata": {},
   "outputs": [],
   "source": [
    "del(data,train,test)"
   ]
  },
  {
   "cell_type": "code",
   "execution_count": 35,
   "metadata": {},
   "outputs": [],
   "source": []
  },
  {
   "cell_type": "code",
   "execution_count": 33,
   "metadata": {},
   "outputs": [],
   "source": [
    "from scipy.sparse import hstack\n",
    "from sklearn.feature_extraction import text\n",
    "import sklearn.decomposition as decomp\n",
    "import scipy"
   ]
  },
  {
   "cell_type": "code",
   "execution_count": 36,
   "metadata": {},
   "outputs": [],
   "source": []
  },
  {
   "cell_type": "code",
   "execution_count": 37,
   "metadata": {},
   "outputs": [],
   "source": [
    "# Transform input data into desired form\n",
    "def transform(a):\n",
    "    ns1 = list(a['need_statement'])\n",
    "    my_stop_words = text.ENGLISH_STOP_WORDS.union(['student','students','My','need'])\n",
    "    tf2 = text.TfidfVectorizer(ns1,ngram_range=(1,2),stop_words=my_stop_words,max_features=50)\n",
    "    ns_tf = tf2.fit_transform(ns1)\n",
    "    \n",
    "    sd1 = list(a['short_description'])\n",
    "    tf1 = text.TfidfVectorizer(sd1,ngram_range=(1,2),stop_words='english',max_features=50)\n",
    "    sd_tf = tf1.fit_transform(sd1)\n",
    "    \n",
    "    title_ = list(a['title'])\n",
    "    tf3 = text.TfidfVectorizer(title_,stop_words='english',max_features=25)\n",
    "    tftext_title = tf3.fit_transform(title_)\n",
    "    \n",
    "       \n",
    "    essay_ = list(a['essay'])\n",
    "    tf4 = text.TfidfVectorizer(essay_,ngram_range=(1,2),stop_words='english',max_features=1000)\n",
    "    tftext_essay = tf4.fit_transform(essay_)\n",
    "    \n",
    "#     deleting intermediate variables to free up space\n",
    "    del(title_,ns1,sd1,essay_)\n",
    "    \n",
    "    \n",
    "    l = a.drop(['need_statement','short_description','title','essay','projectid'],axis=1)\n",
    "    l = pd.get_dummies(l)\n",
    "    l = scipy.sparse.csr_matrix(l.values)\n",
    "    \n",
    "    text_out = hstack([l,ns_tf,sd_tf,tftext_title,tftext_essay])\n",
    "    \n",
    "    del(ns_tf,sd_tf,tftext_title,tftext_essay,l)\n",
    "    \n",
    "    return text_out\n",
    "\n",
    "    "
   ]
  },
  {
   "cell_type": "code",
   "execution_count": 38,
   "metadata": {},
   "outputs": [],
   "source": [
    "from sklearn.ensemble import RandomForestClassifier\n",
    "from sklearn.model_selection import KFold\n",
    "from sklearn.metrics import roc_auc_score"
   ]
  },
  {
   "cell_type": "code",
   "execution_count": 48,
   "metadata": {},
   "outputs": [],
   "source": [
    "clf = RandomForestClassifier(n_estimators=500,oob_score=True,random_state=200)"
   ]
  },
  {
   "cell_type": "code",
   "execution_count": 51,
   "metadata": {},
   "outputs": [
    {
     "name": "stderr",
     "output_type": "stream",
     "text": [
      "C:\\Users\\Lenovo\\Anaconda3\\lib\\site-packages\\ipykernel_launcher.py:12: DataConversionWarning: A column-vector y was passed when a 1d array was expected. Please change the shape of y to (n_samples,), for example using ravel().\n",
      "  if sys.path[0] == '':\n"
     ]
    },
    {
     "ename": "NameError",
     "evalue": "name 'compute_roc_auc' is not defined",
     "output_type": "error",
     "traceback": [
      "\u001b[1;31m---------------------------------------------------------------------------\u001b[0m",
      "\u001b[1;31mNameError\u001b[0m                                 Traceback (most recent call last)",
      "\u001b[1;32m<ipython-input-51-dffb9419b5dc>\u001b[0m in \u001b[0;36m<module>\u001b[1;34m\u001b[0m\n\u001b[0;32m     16\u001b[0m \u001b[1;31m#      Y_test = Y_test.to_sparse()\u001b[0m\u001b[1;33m\u001b[0m\u001b[1;33m\u001b[0m\u001b[1;33m\u001b[0m\u001b[0m\n\u001b[0;32m     17\u001b[0m \u001b[1;31m#      clf.fit(X_train,Y_train)\u001b[0m\u001b[1;33m\u001b[0m\u001b[1;33m\u001b[0m\u001b[1;33m\u001b[0m\u001b[0m\n\u001b[1;32m---> 18\u001b[1;33m       \u001b[0m_\u001b[0m\u001b[1;33m,\u001b[0m\u001b[0m_\u001b[0m\u001b[1;33m,\u001b[0m \u001b[0mauc_score_train\u001b[0m \u001b[1;33m=\u001b[0m \u001b[0mcompute_roc_auc\u001b[0m\u001b[1;33m(\u001b[0m\u001b[0mtrain_i\u001b[0m\u001b[1;33m)\u001b[0m\u001b[1;33m\u001b[0m\u001b[1;33m\u001b[0m\u001b[0m\n\u001b[0m\u001b[0;32m     19\u001b[0m       \u001b[0mfpr\u001b[0m\u001b[1;33m,\u001b[0m \u001b[0mtpr\u001b[0m\u001b[1;33m,\u001b[0m \u001b[0mauc_score\u001b[0m \u001b[1;33m=\u001b[0m \u001b[0mcompute_roc_auc\u001b[0m\u001b[1;33m(\u001b[0m\u001b[0mtest_i\u001b[0m\u001b[1;33m)\u001b[0m\u001b[1;33m\u001b[0m\u001b[1;33m\u001b[0m\u001b[0m\n\u001b[0;32m     20\u001b[0m       \u001b[0mscores\u001b[0m\u001b[1;33m.\u001b[0m\u001b[0mappend\u001b[0m\u001b[1;33m(\u001b[0m\u001b[1;33m(\u001b[0m\u001b[0mauc_score_train\u001b[0m\u001b[1;33m,\u001b[0m \u001b[0mauc_score\u001b[0m\u001b[1;33m)\u001b[0m\u001b[1;33m)\u001b[0m\u001b[1;33m\u001b[0m\u001b[1;33m\u001b[0m\u001b[0m\n",
      "\u001b[1;31mNameError\u001b[0m: name 'compute_roc_auc' is not defined"
     ]
    }
   ],
   "source": [
    "auc_score_out = pd.DataFrame(columns=['kfold','auc_score'])\n",
    "cv = KFold(n_splits=5, random_state=200, shuffle=True)\n",
    "results = pd.DataFrame(columns=['training_score', 'test_score'])\n",
    "fprs, tprs, scores = [], [], []\n",
    "    \n",
    "for (train_i, test_i), i in zip(cv.split(x_train), range(5)):\n",
    "#     clf.fit((np.array(x_train).iloc[train]).to_sparse(), (np.array(y_train).iloc[train]).to_sparse())\n",
    "      X_train, X_test = x_train.iloc[train_i], x_train.iloc[test_i]\n",
    "      Y_train, Y_test = y_train.iloc[train_i], y_train.iloc[test_i]\n",
    "      X_train = transform(X_train)\n",
    "      \n",
    "      clf.fit(X_train,Y_train)\n",
    "#      X_train = X_train.to_sparse()\n",
    "#      Y_train = Y_train.to_sparse()\n",
    "#      X_test = X_test.to_sparse()\n",
    "#      Y_test = Y_test.to_sparse()\n",
    "#      clf.fit(X_train,Y_train)\n",
    "      _,_, auc_score_train = roc_auc_score(train_i)\n",
    "      fpr, tpr, auc_score = roc_auc_score(test_i)\n",
    "      scores.append((auc_score_train, auc_score))\n",
    "      auc_score_out.append(i,auc_score)\n",
    "      fprs.append(fpr)\n",
    "      tprs.append(tpr)\n",
    " \n",
    "plot_roc_curve(fprs, tprs);\n",
    "pd.DataFrame(scores, columns=['AUC Train', 'AUC Test'])"
   ]
  },
  {
   "cell_type": "code",
   "execution_count": 61,
   "metadata": {},
   "outputs": [
    {
     "data": {
      "text/plain": [
       "0.9366102674414871"
      ]
     },
     "execution_count": 61,
     "metadata": {},
     "output_type": "execute_result"
    }
   ],
   "source": [
    "oob = clf.oob_score_\n",
    "oob"
   ]
  },
  {
   "cell_type": "code",
   "execution_count": null,
   "metadata": {},
   "outputs": [],
   "source": [
    "X_Test = transform(x_test)"
   ]
  },
  {
   "cell_type": "code",
   "execution_count": 59,
   "metadata": {},
   "outputs": [
    {
     "data": {
      "text/plain": [
       "0.9363452680604785"
      ]
     },
     "execution_count": 59,
     "metadata": {},
     "output_type": "execute_result"
    }
   ],
   "source": [
    "clf.predict_proba(X_Test)"
   ]
  },
  {
   "cell_type": "code",
   "execution_count": 95,
   "metadata": {},
   "outputs": [],
   "source": [
    "Proba['Project_ID'] = pd.DataFrame(X_Test['projectid'])"
   ]
  },
  {
   "cell_type": "code",
   "execution_count": 95,
   "metadata": {},
   "outputs": [],
   "source": [
    "Proba['is_exciting'] = pd.DataFrame(clf.predict_proba(X_Test)[:,1])"
   ]
  },
  {
   "cell_type": "code",
   "execution_count": null,
   "metadata": {},
   "outputs": [],
   "source": [
    "# Changing the threshold value for each observation.\n",
    "\n",
    "Proba['is_exciting'] = Proba['is_exciting']*2.7"
   ]
  },
  {
   "cell_type": "code",
   "execution_count": 99,
   "metadata": {},
   "outputs": [],
   "source": [
    "Proba.to_csv('Proba.csv',index = False)"
   ]
  }
 ],
 "metadata": {
  "kernelspec": {
   "display_name": "Python 3",
   "language": "python",
   "name": "python3"
  },
  "language_info": {
   "codemirror_mode": {
    "name": "ipython",
    "version": 3
   },
   "file_extension": ".py",
   "mimetype": "text/x-python",
   "name": "python",
   "nbconvert_exporter": "python",
   "pygments_lexer": "ipython3",
   "version": "3.7.3"
  }
 },
 "nbformat": 4,
 "nbformat_minor": 2
}
